{
  "cells": [
    {
      "cell_type": "code",
      "execution_count": null,
      "metadata": {
        "collapsed": false
      },
      "outputs": [],
      "source": [
        "%matplotlib inline"
      ]
    },
    {
      "cell_type": "markdown",
      "metadata": {},
      "source": [
        "\nExample 7 - Interactive Exploration of the Results\n==================================================\n\nThis example takes a run from example 5 and allows you to interactively look at\nall runs performed and the associated loss.\nThe plot allows you to only include certain iterations (selected by the checkboxes on the left).\nBy hovering over the learning curves (all runs of a single configuration on all respective budets)\nyou see some information about the configuration and its performance.\nClicking on it will make the tool tip persistent.Clicking on the curve again, will remove it again.\n\nThis tool is not very mature, but maybe it can help you to explore the structure hidden in your\nresults.  Please refer to the documentation of the visualization submodule to see all\noptions.\n\n"
      ]
    },
    {
      "cell_type": "code",
      "execution_count": null,
      "metadata": {
        "collapsed": false
      },
      "outputs": [],
      "source": [
        "import matplotlib.pyplot as plt\nimport hpbandster.core.result as hpres\nimport hpbandster.visualization as hpvis\n\n\n\n# load the example run from the log files\nresult = hpres.logged_results_to_HBS_result('example_5_run/')\n\n# get all executed runs\nall_runs = result.get_all_runs()\n\n# get the 'dict' that translates config ids to the actual configurations\nid2conf = result.get_id2config_mapping()\n\nlcs = result.get_learning_curves()\n\nhpvis.interactive_HBS_plot(lcs, tool_tip_strings=hpvis.default_tool_tips(result, lcs))\n\n\n\n\ndef realtime_learning_curves(runs):\n\t\"\"\"\n\texample how to extract a different kind of learning curve.\n\t\n\tThe x values are now the time the runs finished, not the budget anymore.\n\tWe no longer plot the validation loss on the y axis, but now the test accuracy.\n\t\n\tThis is just to show how to get different information into the interactive plot.\n\t\n\t\"\"\"\n\tsr = sorted(runs, key=lambda r: r.budget)\n\tlc = list(filter(lambda t: not t[1] is None, [(r.time_stamps['finished'], r.info['test accuracy']) for r in sr]))\n\treturn([lc,])\n\t\nlcs = result.get_learning_curves(lc_extractor=realtime_learning_curves)\n\nhpvis.interactive_HBS_plot(lcs, tool_tip_strings=hpvis.default_tool_tips(result, lcs))"
      ]
    }
  ],
  "metadata": {
    "kernelspec": {
      "display_name": "Python 3",
      "language": "python",
      "name": "python3"
    },
    "language_info": {
      "codemirror_mode": {
        "name": "ipython",
        "version": 3
      },
      "file_extension": ".py",
      "mimetype": "text/x-python",
      "name": "python",
      "nbconvert_exporter": "python",
      "pygments_lexer": "ipython3",
      "version": "3.7.0"
    }
  },
  "nbformat": 4,
  "nbformat_minor": 0
}