{
  "cells": [
    {
      "cell_type": "code",
      "execution_count": null,
      "metadata": {
        "collapsed": false
      },
      "outputs": [],
      "source": [
        "%matplotlib inline"
      ]
    },
    {
      "cell_type": "markdown",
      "metadata": {},
      "source": [
        "\nWorker for Examples 1-4\n=======================\n\nThis class implements a very simple worker used in the firt examples.\n\n"
      ]
    },
    {
      "cell_type": "code",
      "execution_count": null,
      "metadata": {
        "collapsed": false
      },
      "outputs": [],
      "source": [
        "import numpy\nimport time\n\nimport ConfigSpace as CS\nfrom hpbandster.core.worker import Worker\n\n\nclass MyWorker(Worker):\n\n    def __init__(self, *args, sleep_interval=0, **kwargs):\n        super().__init__(*args, **kwargs)\n\n        self.sleep_interval = sleep_interval\n\n    def compute(self, config, budget, **kwargs):\n        \"\"\"\n        Simple example for a compute function\n        The loss is just a the config + some noise (that decreases with the budget)\n\n        For dramatization, the function can sleep for a given interval to emphasizes\n        the speed ups achievable with parallel workers.\n\n        Args:\n            config: dictionary containing the sampled configurations by the optimizer\n            budget: (float) amount of time/epochs/etc. the model can use to train\n\n        Returns:\n            dictionary with mandatory fields:\n                'loss' (scalar)\n                'info' (dict)\n        \"\"\"\n\n        res = numpy.clip(config['x'] + numpy.random.randn()/budget, config['x']/2, 1.5*config['x'])\n        time.sleep(self.sleep_interval)\n\n        return({\n                    'loss': float(res),  # this is the a mandatory field to run hyperband\n                    'info': res  # can be used for any user-defined information - also mandatory\n                })\n    \n    @staticmethod\n    def get_configspace():\n        config_space = CS.ConfigurationSpace()\n        config_space.add_hyperparameter(CS.UniformFloatHyperparameter('x', lower=0, upper=1))\n        return(config_space)"
      ]
    }
  ],
  "metadata": {
    "kernelspec": {
      "display_name": "Python 3",
      "language": "python",
      "name": "python3"
    },
    "language_info": {
      "codemirror_mode": {
        "name": "ipython",
        "version": 3
      },
      "file_extension": ".py",
      "mimetype": "text/x-python",
      "name": "python",
      "nbconvert_exporter": "python",
      "pygments_lexer": "ipython3",
      "version": "3.7.0"
    }
  },
  "nbformat": 4,
  "nbformat_minor": 0
}