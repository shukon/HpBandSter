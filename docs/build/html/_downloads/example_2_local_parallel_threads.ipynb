{
  "cells": [
    {
      "cell_type": "code",
      "execution_count": null,
      "metadata": {
        "collapsed": false
      },
      "outputs": [],
      "source": [
        "%matplotlib inline"
      ]
    },
    {
      "cell_type": "markdown",
      "metadata": {},
      "source": [
        "\nExample 2 - Local and Parallel (using threads)\n==============================================\n\nThis example extends example 1 to multiple parallel workers.\nFor demonstrational purposes, the workers are started in separate threads.\nThis is probably not the most common use case but serves as a nice example.\nThe setup can be useful if the workers do their computations outside Python's Global Interpreter Lock, e.g. in some 3rd party extension in C/C++.\nIn that case, all workers can truely work in parallel.\n\n\n"
      ]
    },
    {
      "cell_type": "code",
      "execution_count": null,
      "metadata": {
        "collapsed": false
      },
      "outputs": [],
      "source": [
        "import logging\nlogging.basicConfig(level=logging.WARNING)\n\nimport argparse\n\nimport hpbandster.core.nameserver as hpns\nimport hpbandster.core.result as hpres\n\nfrom hpbandster.optimizers import BOHB as BOHB\nfrom hpbandster.examples.commons import MyWorker\n\n\n\nparser = argparse.ArgumentParser(description='Example 1 - sequential and local execution.')\nparser.add_argument('--min_budget',   type=float, help='Minimum budget used during the optimization.',    default=9)\nparser.add_argument('--max_budget',   type=float, help='Maximum budget used during the optimization.',    default=243)\nparser.add_argument('--n_iterations', type=int,   help='Number of iterations performed by the optimizer', default=4)\nparser.add_argument('--n_workers', type=int,   help='Number of workers to run in parallel.', default=2)\n\nargs=parser.parse_args()\n\n\n# Step 1: Start a nameserver (see example_1)\nNS = hpns.NameServer(run_id='example2', host='127.0.0.1', port=None)\nNS.start()\n\n# Step 2: Start the workers\n# Now we can instantiate the specified number of workers. To emphasize the effect,\n# we introduce a sleep_interval of one second, which makes every function evaluation\n# take a bit of time. Note the additional id argument that helps separating the\n# individual workers. This is necessary because every worker uses its processes\n# ID which is the same for all threads here.\nworkers=[]\nfor i in range(args.n_workers):\n\tw = MyWorker(sleep_interval = 0.5, nameserver='127.0.0.1',run_id='example2', id=i)\n\tw.run(background=True)\n\tworkers.append(w)\n\n# Step 3: Run an optimizer\n# Now we can create an optimizer object and start the run.\n# We add the min_n_workers argument to the run methods to make the optimizer wait\n# for all workers to start. This is not mandatory, and workers can be added\n# at any time, but if the timing of the run is essential, this can be used to\n# synchronize all workers right at the start.\nbohb = BOHB(  configspace = w.get_configspace(),\n              run_id = 'example2',\n              min_budget=args.min_budget, max_budget=args.max_budget\n           )\nres = bohb.run(n_iterations=args.n_iterations, min_n_workers=args.n_workers)\n\n# Step 4: Shutdown\n# After the optimizer run, we must shutdown the master and the nameserver.\nbohb.shutdown(shutdown_workers=True)\nNS.shutdown()\n\n# Step 5: Analysis\n# Each optimizer returns a hpbandster.core.result.Result object.\n# It holds informations about the optimization run like the incumbent (=best) configuration.\n# For further details about the Result object, see its documentation.\n# Here we simply print out the best config and some statistics about the performed runs.\nid2config = res.get_id2config_mapping()\nincumbent = res.get_incumbent_id()\n\nall_runs = res.get_all_runs()\n\nprint('Best found configuration:', id2config[incumbent]['config'])\nprint('A total of %i unique configurations where sampled.' % len(id2config.keys()))\nprint('A total of %i runs where executed.' % len(res.get_all_runs()))\nprint('Total budget corresponds to %.1f full function evaluations.'%(sum([r.budget for r in all_runs])/args.max_budget))\nprint('Total budget corresponds to %.1f full function evaluations.'%(sum([r.budget for r in all_runs])/args.max_budget))\nprint('The run took  %.1f seconds to complete.'%(all_runs[-1].time_stamps['finished'] - all_runs[0].time_stamps['started']))"
      ]
    }
  ],
  "metadata": {
    "kernelspec": {
      "display_name": "Python 3",
      "language": "python",
      "name": "python3"
    },
    "language_info": {
      "codemirror_mode": {
        "name": "ipython",
        "version": 3
      },
      "file_extension": ".py",
      "mimetype": "text/x-python",
      "name": "python",
      "nbconvert_exporter": "python",
      "pygments_lexer": "ipython3",
      "version": "3.7.0"
    }
  },
  "nbformat": 4,
  "nbformat_minor": 0
}