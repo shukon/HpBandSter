{
  "cells": [
    {
      "cell_type": "code",
      "execution_count": null,
      "metadata": {
        "collapsed": false
      },
      "outputs": [],
      "source": [
        "%matplotlib inline"
      ]
    },
    {
      "cell_type": "markdown",
      "metadata": {},
      "source": [
        "\nExample 3 - Local and Parallel (using processes)\n================================================\n\nGetting closer to a distributed setup, this examples shows how to connect a nameserver, an optimizer and several workers running in different processes.\nThis would also allow true parallelism if the workers do all the computation in Python, such that the thread based paralelization of example 2 would not work.\n\n\n"
      ]
    },
    {
      "cell_type": "code",
      "execution_count": null,
      "metadata": {
        "collapsed": false
      },
      "outputs": [],
      "source": [
        "import logging\nlogging.basicConfig(level=logging.INFO)\n\nimport argparse\n\nimport hpbandster.core.nameserver as hpns\nimport hpbandster.core.result as hpres\n\nfrom hpbandster.optimizers import BOHB as BOHB\nfrom hpbandster.examples.commons import MyWorker\n\n\n\nparser = argparse.ArgumentParser(description='Example 3 - Local and Parallel Execution.')\nparser.add_argument('--min_budget',   type=float, help='Minimum budget used during the optimization.',    default=9)\nparser.add_argument('--max_budget',   type=float, help='Maximum budget used during the optimization.',    default=243)\nparser.add_argument('--n_iterations', type=int,   help='Number of iterations performed by the optimizer', default=4)\nparser.add_argument('--n_workers', type=int,   help='Number of workers to run in parallel.', default=2)\nparser.add_argument('--worker', help='Flag to turn this into a worker process', action='store_true')\n\nargs=parser.parse_args()\n\n\n\nif args.worker:\n\tw = MyWorker(sleep_interval = 0.5, nameserver='127.0.0.1',run_id='example3')\n\tw.run(background=False)\n\texit(0)\n\n# Start a nameserver (see example_1)\nNS = hpns.NameServer(run_id='example3', host='127.0.0.1', port=None)\nNS.start()\n\n\n# Run an optimizer (see example_2)\nbohb = BOHB(  configspace = MyWorker.get_configspace(),\n\t\t\t  run_id = 'example3',\n\t\t\t  min_budget=args.min_budget, max_budget=args.max_budget\n\t\t   )\nres = bohb.run(n_iterations=args.n_iterations, min_n_workers=args.n_workers)\n\n# Step 4: Shutdown\n# After the optimizer run, we must shutdown the master and the nameserver.\nbohb.shutdown(shutdown_workers=True)\nNS.shutdown()\n\n# Step 5: Analysis\n# Each optimizer returns a hpbandster.core.result.Result object.\n# It holds informations about the optimization run like the incumbent (=best) configuration.\n# For further details about the Result object, see its documentation.\n# Here we simply print out the best config and some statistics about the performed runs.\nid2config = res.get_id2config_mapping()\nincumbent = res.get_incumbent_id()\n\nall_runs = res.get_all_runs()\n\nprint('Best found configuration:', id2config[incumbent]['config'])\nprint('A total of %i unique configurations where sampled.' % len(id2config.keys()))\nprint('A total of %i runs where executed.' % len(res.get_all_runs()))\nprint('Total budget corresponds to %.1f full function evaluations.'%(sum([r.budget for r in all_runs])/args.max_budget))\nprint('Total budget corresponds to %.1f full function evaluations.'%(sum([r.budget for r in all_runs])/args.max_budget))\nprint('The run took  %.1f seconds to complete.'%(all_runs[-1].time_stamps['finished'] - all_runs[0].time_stamps['started']))"
      ]
    }
  ],
  "metadata": {
    "kernelspec": {
      "display_name": "Python 3",
      "language": "python",
      "name": "python3"
    },
    "language_info": {
      "codemirror_mode": {
        "name": "ipython",
        "version": 3
      },
      "file_extension": ".py",
      "mimetype": "text/x-python",
      "name": "python",
      "nbconvert_exporter": "python",
      "pygments_lexer": "ipython3",
      "version": "3.7.0"
    }
  },
  "nbformat": 4,
  "nbformat_minor": 0
}