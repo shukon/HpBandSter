{
  "cells": [
    {
      "cell_type": "code",
      "execution_count": null,
      "metadata": {
        "collapsed": false
      },
      "outputs": [],
      "source": [
        "%matplotlib inline"
      ]
    },
    {
      "cell_type": "markdown",
      "metadata": {},
      "source": [
        "\nExample 6 -  Analysis of a Run\n==============================\n\nThis example takes a run from example 5 and performs some analysis of it.\nIt shows how to get the best performing configuration, and its attributes.\nMore advanced analysis plots provide some insights into a run and the problem.\n\n\n"
      ]
    },
    {
      "cell_type": "code",
      "execution_count": null,
      "metadata": {
        "collapsed": false
      },
      "outputs": [],
      "source": [
        "import matplotlib.pyplot as plt\nimport hpbandster.core.result as hpres\nimport hpbandster.visualization as hpvis\n\n\n\n# load the example run from the log files\nresult = hpres.logged_results_to_HBS_result('example_5_run/')\n\n# get all executed runs\nall_runs = result.get_all_runs()\n\n# get the 'dict' that translates config ids to the actual configurations\nid2conf = result.get_id2config_mapping()\n\n\n# Here is how you get he incumbent (best configuration)\ninc_id = result.get_incumbent_id()\n\n# let's grab the run on the highest budget \ninc_runs = result.get_runs_by_id(inc_id)\ninc_run = inc_runs[-1]\n\n\n# We have access to all information: the config, the loss observed during\n#optimization, and all the additional information\ninc_loss = inc_run.loss\ninc_config = id2conf[inc_id]['config']\ninc_test_loss = inc_run.info['test accuracy']\n\nprint('Best found configuration:')\nprint(inc_config)\nprint('It achieved accuracies of %f (validation) and %f (test).'%(1-inc_loss, inc_test_loss))\n\n\n# Let's plot the observed losses grouped by budget,\nhpvis.losses_over_time(all_runs) \n\n# the number of concurent runs,\nhpvis.concurrent_runs_over_time(all_runs) \n\n# and the number of finished runs.\nhpvis.finished_runs_over_time(all_runs)\n\n# This one visualizes the spearman rank correlation coefficients of the losses\n# between different budgets.\nhpvis.correlation_across_budgets(result)\n\n# For model based optimizers, one might wonder how much the model actually helped.\n# The next plot compares the performance of configs picked by the model vs. random ones\nhpvis.performance_histogram_model_vs_random(all_runs, id2conf) \n\nplt.show()"
      ]
    }
  ],
  "metadata": {
    "kernelspec": {
      "display_name": "Python 3",
      "language": "python",
      "name": "python3"
    },
    "language_info": {
      "codemirror_mode": {
        "name": "ipython",
        "version": 3
      },
      "file_extension": ".py",
      "mimetype": "text/x-python",
      "name": "python",
      "nbconvert_exporter": "python",
      "pygments_lexer": "ipython3",
      "version": "3.7.0"
    }
  },
  "nbformat": 4,
  "nbformat_minor": 0
}